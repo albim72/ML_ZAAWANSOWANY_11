{
  "nbformat": 4,
  "nbformat_minor": 0,
  "metadata": {
    "colab": {
      "provenance": [],
      "authorship_tag": "ABX9TyNQ8EL+FbtuDcihHE/ToJSj",
      "include_colab_link": true
    },
    "kernelspec": {
      "name": "python3",
      "display_name": "Python 3"
    },
    "language_info": {
      "name": "python"
    }
  },
  "cells": [
    {
      "cell_type": "markdown",
      "metadata": {
        "id": "view-in-github",
        "colab_type": "text"
      },
      "source": [
        "<a href=\"https://colab.research.google.com/github/albim72/ML_ZAAWANSOWANY_11/blob/main/DCGAN_mnist_v3.ipynb\" target=\"_parent\"><img src=\"https://colab.research.google.com/assets/colab-badge.svg\" alt=\"Open In Colab\"/></a>"
      ]
    },
    {
      "cell_type": "code",
      "execution_count": 3,
      "metadata": {
        "id": "02NdpTcg1gF9"
      },
      "outputs": [],
      "source": [
        "from  __future__ import absolute_import\n",
        "from  __future__ import division\n",
        "from  __future__ import print_function"
      ]
    },
    {
      "cell_type": "code",
      "source": [
        "from tensorflow.keras.layers import Activation,Dense,Input\n",
        "from tensorflow.keras.layers import Conv2D, Flatten\n",
        "from tensorflow.keras.layers import Reshape,Conv2DTranspose\n",
        "from tensorflow.keras.layers import LeakyReLU\n",
        "from tensorflow.keras.layers import BatchNormalization\n",
        "from tensorflow.keras.layers import concatenate\n",
        "from tensorflow.keras.optimizers import RMSprop\n",
        "from tensorflow.keras.models import Model\n",
        "from tensorflow.keras.datasets import mnist\n",
        "from tensorflow.keras.utils import to_categorical\n",
        "from tensorflow.keras.models import load_model"
      ],
      "metadata": {
        "id": "LSvRQQPw5enl"
      },
      "execution_count": 6,
      "outputs": []
    },
    {
      "cell_type": "code",
      "source": [
        "import numpy as np\n",
        "import math\n",
        "import matplotlib.pyplot\n",
        "import os\n",
        "import argparse"
      ],
      "metadata": {
        "id": "KACijbyQ6WRs"
      },
      "execution_count": 9,
      "outputs": []
    },
    {
      "cell_type": "code",
      "source": [
        "def build_generator(inputs,labels,image_size):\n",
        "  \"\"\"\n",
        "  konstruowanie modelu generatora\n",
        "  wejścia są łączone przed warstwą gęstą\n",
        "  Stos warstw BN-Relu-Cov2DTranspose do generowania fałszywych obrazów\n",
        "  funkcja aktywacji - sigmoid\n",
        "\n",
        "  Argumenty:\n",
        "  inputs  - warstwa wejściowa genezarora - wektor z\n",
        "  labels - warstwa wejściowa dla wektora OH - nałożenie warunków wejścia\n",
        "  image_size - docelowy rozmiar jednego bloku (kwadrat)\n",
        "\n",
        "  Wyjście -> model generatora\n",
        "  \"\"\"\n",
        "\n",
        "  image_resize = image_size//4\n",
        "  kernel_size = 5\n",
        "  layer_filters = [128,64,32,1]\n",
        "\n",
        "  x = concatenate([inputs,labels],axis=1)\n",
        "  x = Dense(image_resize*image_resize*layer_filters[0])(x)\n",
        "  x = Reshape((image_resize,image_size,layer_filters[0]))(x)\n",
        "  for filters in layer_filters:\n",
        "    if filters>layer_filters[-2]:\n",
        "      strides=2\n",
        "    else:\n",
        "      strides=1\n",
        "\n",
        "    x = BatchNormalization()(x)\n",
        "    x = Activation('relu')(x)\n",
        "    x = Conv2DTranspose(filters=filters,\n",
        "                        kernel_size=kernel_size,\n",
        "                        strides = strides,\n",
        "                        padding='same')(x)\n",
        "  x = Activation('sigmoid')(x)\n",
        "  generator = Model([inputs,labels],x,name='generator')\n",
        "  return generator"
      ],
      "metadata": {
        "id": "Ux_iQ0wQ6sIC"
      },
      "execution_count": 8,
      "outputs": []
    },
    {
      "cell_type": "code",
      "source": [
        "def build_discriminator(inputs,labels,image_size):\n",
        "  \"\"\"\n",
        "  konstruowanie modelu dyskryminatora\n",
        "  wejścia są łączone w warstwie gęstej\n",
        "  Stos warstw LeakyRelu - Conv2D do odróżniania prawdziwych i fałszywych obrazów\n",
        "\n",
        "  Argumenty:\n",
        "  inputs  - warstwa wejściowa dyskryminatora - wektor z\n",
        "  labels - warstwa wejściowa dla wektora OH - nałożenie warunków wejścia\n",
        "  image_size - docelowy rozmiar jednego bloku (kwadrat)\n",
        "\n",
        "  Wyjście -> model dyskryminatora\n",
        "  \"\"\"\n",
        "  kernel_size = 5\n",
        "  layer_filters = [32,64,128,256]\n",
        "\n",
        "  x = inputs\n",
        "  y = Dense(image_size*image_size)(labels)\n",
        "  y = Reshape((image_size,image_size,1))(y)\n",
        "  x = concatenate([x,y])\n",
        "\n",
        "  for filters in layer_filters:\n",
        "    if filters == layer_filters[-1]:\n",
        "      strides = 1\n",
        "    else:\n",
        "      strides = 2\n",
        "    x = LeakyReLU(alpha=0.2)(x)\n",
        "    x = Conv2D(filters=filters,\n",
        "               kernel_size=kernel_size,\n",
        "               strides=strides,\n",
        "               padding='same')(x)\n",
        "\n",
        "  x = Flatten()(x)\n",
        "  x = Dense(1)(x)\n",
        "  x = Activation('sigmoid')(x)\n",
        "  discriminator = Model([inputs,labels],x,name='discriminator')\n",
        "  return discriminator"
      ],
      "metadata": {
        "id": "tkWkSBThIbp8"
      },
      "execution_count": 10,
      "outputs": []
    }
  ]
}