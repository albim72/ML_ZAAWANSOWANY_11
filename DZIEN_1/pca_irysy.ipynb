{
 "cells":[
  {
   "cell_type":"code",
   "source":[
    "import pandas as pd\n",
    "from sklearn.preprocessing import StandardScaler\n",
    "from sklearn.decomposition import PCA\n",
    "import matplotlib.pyplot as plt"
   ],
   "execution_count":1,
   "outputs":[
    
   ],
   "metadata":{
    "datalore":{
     "node_id":"ccYbSnE7TEFDR3GDT1SaOD",
     "type":"CODE",
     "hide_input_from_viewers":true,
     "hide_output_from_viewers":true
    }
   }
  },
  {
   "cell_type":"code",
   "source":[
    "url = \"https:\/\/archive.ics.uci.edu\/ml\/machine-learning-databases\/iris\/iris.data\"\n",
    "df = pd.read_csv(url,names=['sepal length','sepal width','petal length','petal width',\n",
    "                            'target'])"
   ],
   "execution_count":2,
   "outputs":[
    
   ],
   "metadata":{
    "datalore":{
     "node_id":"zi1yYaVIJB8hDBoDE2Wvez",
     "type":"CODE",
     "hide_input_from_viewers":true,
     "hide_output_from_viewers":true
    }
   }
  },
  {
   "cell_type":"code",
   "source":[
    "df.head()"
   ],
   "execution_count":3,
   "outputs":[
    {
     "data":{
      "text\/html":[
       "<div>\n",
       "<style scoped>\n",
       "    .dataframe tbody tr th:only-of-type {\n",
       "        vertical-align: middle;\n",
       "    }\n",
       "\n",
       "    .dataframe tbody tr th {\n",
       "        vertical-align: top;\n",
       "    }\n",
       "\n",
       "    .dataframe thead th {\n",
       "        text-align: right;\n",
       "    }\n",
       "<\/style>\n",
       "<table border=\"1\" class=\"dataframe\">\n",
       "  <thead>\n",
       "    <tr style=\"text-align: right;\">\n",
       "      <th><\/th>\n",
       "      <th>sepal length<\/th>\n",
       "      <th>sepal width<\/th>\n",
       "      <th>petal length<\/th>\n",
       "      <th>petal width<\/th>\n",
       "      <th>target<\/th>\n",
       "    <\/tr>\n",
       "  <\/thead>\n",
       "  <tbody>\n",
       "    <tr>\n",
       "      <th>0<\/th>\n",
       "      <td>5.1<\/td>\n",
       "      <td>3.5<\/td>\n",
       "      <td>1.4<\/td>\n",
       "      <td>0.2<\/td>\n",
       "      <td>Iris-setosa<\/td>\n",
       "    <\/tr>\n",
       "    <tr>\n",
       "      <th>1<\/th>\n",
       "      <td>4.9<\/td>\n",
       "      <td>3.0<\/td>\n",
       "      <td>1.4<\/td>\n",
       "      <td>0.2<\/td>\n",
       "      <td>Iris-setosa<\/td>\n",
       "    <\/tr>\n",
       "    <tr>\n",
       "      <th>2<\/th>\n",
       "      <td>4.7<\/td>\n",
       "      <td>3.2<\/td>\n",
       "      <td>1.3<\/td>\n",
       "      <td>0.2<\/td>\n",
       "      <td>Iris-setosa<\/td>\n",
       "    <\/tr>\n",
       "    <tr>\n",
       "      <th>3<\/th>\n",
       "      <td>4.6<\/td>\n",
       "      <td>3.1<\/td>\n",
       "      <td>1.5<\/td>\n",
       "      <td>0.2<\/td>\n",
       "      <td>Iris-setosa<\/td>\n",
       "    <\/tr>\n",
       "    <tr>\n",
       "      <th>4<\/th>\n",
       "      <td>5.0<\/td>\n",
       "      <td>3.6<\/td>\n",
       "      <td>1.4<\/td>\n",
       "      <td>0.2<\/td>\n",
       "      <td>Iris-setosa<\/td>\n",
       "    <\/tr>\n",
       "  <\/tbody>\n",
       "<\/table>\n",
       "<\/div>"
      ]
     },
     "metadata":{
      
     },
     "output_type":"display_data"
    }
   ],
   "metadata":{
    "datalore":{
     "node_id":"nWKFhTNfaHTXUCBNHs74Td",
     "type":"CODE",
     "hide_input_from_viewers":true,
     "hide_output_from_viewers":true
    }
   }
  },
  {
   "cell_type":"code",
   "source":[
    "features = ['sepal length','sepal width','petal length','petal width']\n",
    "x = df.loc[:,features].values\n",
    "y = df.loc[:,['target']].values\n",
    "x = StandardScaler().fit_transform(x)"
   ],
   "execution_count":6,
   "outputs":[
    
   ],
   "metadata":{
    "datalore":{
     "node_id":"cokAFjd343rkO2S3Tjkf60",
     "type":"CODE",
     "hide_input_from_viewers":true,
     "hide_output_from_viewers":true
    }
   }
  },
  {
   "cell_type":"code",
   "source":[
    "pca = PCA(n_components=2)\n",
    "principalComponents = pca.fit_transform(x)\n",
    "principalDf = pd.DataFrame(data=principalComponents,columns=['principal component 1','principal component 2'])\n",
    "finalDf = pd.concat([principalDf,df[['target']]],axis=1)"
   ],
   "execution_count":7,
   "outputs":[
    
   ],
   "metadata":{
    "datalore":{
     "node_id":"EhXlveKuKOvOIykvEydXxK",
     "type":"CODE",
     "hide_input_from_viewers":true,
     "hide_output_from_viewers":true
    }
   }
  },
  {
   "cell_type":"code",
   "source":[
    "fig = plt.figure(figsize=(8,8))\n",
    "ax = fig.add_subplot(1,1,1)\n",
    "ax.set_xlabel('Principal Component 1',fontsize=15)\n",
    "ax.set_ylabel('Principal Component 2',fontsize=15)\n",
    "ax.set_title('Two components PCA',fontsize=20)\n",
    "targets = ['Iris-setosa','Iris-versicolor','Iris-virginica']\n",
    "colors=['r','g','b']\n",
    "for target,color in zip(targets,colors):\n",
    "    itk = finalDf['target'] == target\n",
    "    ax.scatter(finalDf.loc[itk,'principal component 1'],\n",
    "               finalDf.loc[itk,'principal component 2'],\n",
    "               c=color,\n",
    "               s=50)\n",
    "ax.legend(targets)\n",
    "ax.grid()\n",
    "plt.show()"
   ],
   "execution_count":10,
   "outputs":[
    {
     "data":{
      "image\/png":"[encoded data removed]"
     },
     "metadata":{
      "image\/png":{
       
      }
     },
     "output_type":"display_data"
    }
   ],
   "metadata":{
    "datalore":{
     "node_id":"0KU54wdg5M1tn5IzXKGmWd",
     "type":"CODE",
     "hide_input_from_viewers":true,
     "hide_output_from_viewers":true
    }
   }
  }
 ],
 "metadata":{
  "kernelspec":{
   "display_name":"Python",
   "language":"python",
   "name":"python"
  },
  "datalore":{
   "computation_mode":"JUPYTER",
   "package_manager":"pip",
   "base_environment":"default",
   "packages":[
    
   ],
   "report_row_ids":[
    
   ],
   "version":3
  }
 },
 "nbformat":4,
 "nbformat_minor":4
}