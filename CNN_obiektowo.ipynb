{
  "nbformat": 4,
  "nbformat_minor": 0,
  "metadata": {
    "colab": {
      "provenance": [],
      "authorship_tag": "ABX9TyMO/JkZtaXyuptF7ScxHG0Z",
      "include_colab_link": true
    },
    "kernelspec": {
      "name": "python3",
      "display_name": "Python 3"
    },
    "language_info": {
      "name": "python"
    }
  },
  "cells": [
    {
      "cell_type": "markdown",
      "metadata": {
        "id": "view-in-github",
        "colab_type": "text"
      },
      "source": [
        "<a href=\"https://colab.research.google.com/github/albim72/ML_ZAAWANSOWANY_11/blob/main/CNN_obiektowo.ipynb\" target=\"_parent\"><img src=\"https://colab.research.google.com/assets/colab-badge.svg\" alt=\"Open In Colab\"/></a>"
      ]
    },
    {
      "cell_type": "code",
      "execution_count": 1,
      "metadata": {
        "id": "Gn9ALfz_h24u"
      },
      "outputs": [],
      "source": [
        "import tensorflow as tf\n",
        "from tensorflow.keras.layers import Flatten,Dense,Conv2D\n",
        "from tensorflow.keras import Model"
      ]
    },
    {
      "cell_type": "code",
      "source": [
        "mnist = tf.keras.datasets.mnist\n",
        "\n",
        "(x_train,y_train),(x_test,y_test) = mnist.load_data()\n",
        "x_train,x_test = x_train/255.0,x_test/255.0\n",
        "\n",
        "#dodanie kanałow wymiarów\n",
        "x_train = x_train[...,tf.newaxis].astype(\"float32\")\n",
        "x_test = x_test[...,tf.newaxis].astype(\"float32\")"
      ],
      "metadata": {
        "colab": {
          "base_uri": "https://localhost:8080/"
        },
        "id": "sVwntqITijE8",
        "outputId": "24f12cda-40e7-46fe-efce-e28c910be05c"
      },
      "execution_count": 5,
      "outputs": [
        {
          "output_type": "stream",
          "name": "stdout",
          "text": [
            "Downloading data from https://storage.googleapis.com/tensorflow/tf-keras-datasets/mnist.npz\n",
            "11490434/11490434 [==============================] - 0s 0us/step\n"
          ]
        }
      ]
    },
    {
      "cell_type": "code",
      "source": [
        "#deklaracja przetwarzania wsadowego i przetasowanie zestawu danych\n",
        "train_ds = tf.data.Dataset.from_tensor_slices(\n",
        "    (x_train,y_train)\n",
        ").shuffle(10000).batch(32)\n",
        "\n",
        "test_ds = tf.data.Dataset.from_tensor_slices((x_test,y_test)).batch(32)"
      ],
      "metadata": {
        "id": "QFeyXQWTlMDa"
      },
      "execution_count": 6,
      "outputs": []
    }
  ]
}