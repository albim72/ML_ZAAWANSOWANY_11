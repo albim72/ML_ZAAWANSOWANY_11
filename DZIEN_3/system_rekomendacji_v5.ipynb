{
 "cells":[
  {
   "cell_type":"code",
   "source":[
    "import json\n",
    "from collections import Counter\n",
    "from keras.models import Model\n",
    "from keras.layers import Embedding,Input,Reshape\n",
    "from keras.layers.merging import Dot\n",
    "from sklearn.linear_model import LinearRegression\n",
    "import numpy as np\n",
    "import random\n",
    "from sklearn import svm"
   ],
   "execution_count":4,
   "outputs":[
    
   ],
   "metadata":{
    "datalore":{
     "node_id":"dPugSiYKSYQp3VyXb2MlF4",
     "type":"CODE",
     "hide_input_from_viewers":true,
     "hide_output_from_viewers":true
    }
   }
  },
  {
   "cell_type":"code",
   "source":[
    "with open('data\/wp_movies_second.ndjson') as fin:\n",
    "    movies = [json.loads(l) for l in fin]\n",
    "# with open('wp_movies_10k.ndjson') as fin:\n",
    "#     movies = fin.read()\n",
    "#     print(movies)\n",
    "#     mv2 = json.loads(movies)"
   ],
   "execution_count":5,
   "outputs":[
    
   ],
   "metadata":{
    "datalore":{
     "node_id":"Wbx0hXC4Cm9zJv5uAuydEI",
     "type":"CODE",
     "hide_input_from_viewers":true,
     "hide_output_from_viewers":true
    }
   }
  },
  {
   "cell_type":"code",
   "source":[
    "link_counts = Counter()\n",
    "for movie in movies:\n",
    "    link_counts.update(movie[2])\n",
    "link_counts.most_common(10)"
   ],
   "execution_count":6,
   "outputs":[
    {
     "data":{
      "text\/plain":[
       "[('Rotten Tomatoes', 9393),\n",
       " ('Category:English-language films', 5882),\n",
       " ('Category:American films', 5867),\n",
       " ('Variety (magazine)', 5450),\n",
       " ('Metacritic', 5112),\n",
       " ('Box Office Mojo', 4186),\n",
       " ('The New York Times', 3818),\n",
       " ('The Hollywood Reporter', 3553),\n",
       " ('Roger Ebert', 2707),\n",
       " ('Los Angeles Times', 2454)]"
      ]
     },
     "metadata":{
      
     },
     "output_type":"display_data"
    }
   ],
   "metadata":{
    "datalore":{
     "node_id":"KlDlc56cTuz7htrQgQtyrI",
     "type":"CODE",
     "hide_input_from_viewers":true,
     "hide_output_from_viewers":true
    }
   }
  },
  {
   "cell_type":"code",
   "source":[
    "top_links = [link for link,c in link_counts.items() if c>=3]\n",
    "link_to_idx = {link:idx for idx, link in enumerate(top_links)}\n",
    "movie_to_idx = {movie[0]:idx for idx,movie in enumerate(movies)}\n",
    "pairs=[]\n",
    "for movie in movies:\n",
    "    pairs.extend((link_to_idx[link],movie_to_idx[movie[0]]) for link in movie[2] if link in link_to_idx)\n",
    "pairs_set = set(pairs)\n",
    "len(pairs),len(top_links),len(movie_to_idx)"
   ],
   "execution_count":8,
   "outputs":[
    {
     "data":{
      "text\/plain":[
       "(949544, 66913, 10000)"
      ]
     },
     "metadata":{
      
     },
     "output_type":"display_data"
    }
   ],
   "metadata":{
    "datalore":{
     "node_id":"n5360VcxSEqW5QkSQ5uh5S",
     "type":"CODE",
     "hide_input_from_viewers":true,
     "hide_output_from_viewers":true
    }
   }
  },
  {
   "cell_type":"code",
   "source":[
    "def movie_embedding_model(embedding_size=50):\n",
    "    link = Input(name='link',shape=(1,))\n",
    "    movie = Input(name='movie', shape=(1,))\n",
    "    link_embedding = Embedding(name=\"link_embedding\", input_dim=len(top_links),output_dim=embedding_size)(link)\n",
    "    movie_embedding = Embedding(name=\"movie_embedding\", input_dim=len(movie_to_idx),output_dim=embedding_size)(movie)\n",
    "    dot = Dot(name='dot_product',normalize=True,axes=2)([link_embedding, movie_embedding])\n",
    "    merged = Reshape((1,))(dot)\n",
    "    model = Model(inputs=[link,movie],outputs=[merged])\n",
    "    model.compile(optimizer='nadam', loss='mse')\n",
    "    return model"
   ],
   "execution_count":9,
   "outputs":[
    
   ],
   "metadata":{
    "datalore":{
     "node_id":"RZnqxZUWMnwRJomfPmgR83",
     "type":"CODE",
     "hide_input_from_viewers":true,
     "hide_output_from_viewers":true
    }
   }
  },
  {
   "cell_type":"code",
   "source":[
    "model = movie_embedding_model()\n",
    "model.summary()"
   ],
   "execution_count":10,
   "outputs":[
    {
     "name":"stdout",
     "text":[
      "Model: \"model\"\n",
      "__________________________________________________________________________________________________\n",
      " Layer (type)                   Output Shape         Param #     Connected to                     \n",
      "==================================================================================================\n",
      " link (InputLayer)              [(None, 1)]          0           []                               \n",
      "                                                                                                  \n",
      " movie (InputLayer)             [(None, 1)]          0           []                               \n",
      "                                                                                                  \n",
      " link_embedding (Embedding)     (None, 1, 50)        3345650     ['link[0][0]']                   \n",
      "                                                                                                  \n",
      " movie_embedding (Embedding)    (None, 1, 50)        500000      ['movie[0][0]']                  \n",
      "                                                                                                  \n",
      " dot_product (Dot)              (None, 1, 1)         0           ['link_embedding[0][0]',         \n",
      "                                                                  'movie_embedding[0][0]']        \n",
      "                                                                                                  \n",
      " reshape (Reshape)              (None, 1)            0           ['dot_product[0][0]']            \n",
      "                                                                                                  \n",
      "==================================================================================================\n",
      "Total params: 3,845,650\n",
      "Trainable params: 3,845,650\n",
      "Non-trainable params: 0\n",
      "__________________________________________________________________________________________________\n"
     ],
     "output_type":"stream"
    }
   ],
   "metadata":{
    "datalore":{
     "node_id":"2WONFgcRmpH8T1O0nUggxe",
     "type":"CODE",
     "hide_input_from_viewers":true,
     "hide_output_from_viewers":true
    }
   }
  },
  {
   "cell_type":"code",
   "source":[
    "random.seed(5)\n",
    "\n",
    "def batchifier(pairs,positive_samples=50,negative_ratio=10):\n",
    "    batch_size = positive_samples*(1+negative_ratio)\n",
    "    batch = np.zeros((batch_size,3))\n",
    "    while True:\n",
    "        for idx,(link_id,movie_id) in enumerate(random.sample(pairs,positive_samples)):\n",
    "            batch[idx,:]=(link_id,movie_id,1)\n",
    "        idx = positive_samples\n",
    "        while idx<batch_size:\n",
    "            movie_id=random.randrange(len(movie_to_idx))\n",
    "            link_id=random.randrange(len(top_links))\n",
    "            if not (link_id,movie_id) in pairs_set:\n",
    "                batch[idx,:]=(link_id,movie_id,-1)\n",
    "                idx += 1\n",
    "        np.random.shuffle(batch)\n",
    "        yield {'link':batch[:,0],'movie':batch[:,1]},batch[:,2]\n",
    "\n",
    "next(batchifier(pairs,positive_samples=3,negative_ratio=2))"
   ],
   "execution_count":12,
   "outputs":[
    {
     "data":{
      "text\/plain":[
       "({'link': array([13365., 20558., 31254., 32318., 48731.,  3801.,  1313., 32643.,\n",
       "         22418.]),\n",
       "  'movie': array([6238.,  849., 5530., 7685., 1854., 5874., 7236., 7628., 1529.])},\n",
       " array([-1., -1.,  1., -1., -1., -1.,  1., -1.,  1.]))"
      ]
     },
     "metadata":{
      
     },
     "output_type":"display_data"
    }
   ],
   "metadata":{
    "datalore":{
     "node_id":"kRogiMgOOKD8VuNzhpVUyk",
     "type":"CODE",
     "hide_input_from_viewers":true,
     "hide_output_from_viewers":true
    }
   }
  },
  {
   "cell_type":"code",
   "source":[
    "positive_samples_per_batch = 512\n",
    "\n",
    "model.fit_generator(\n",
    "    batchifier(pairs,positive_samples=positive_samples_per_batch,negative_ratio=10),\n",
    "    epochs=15,\n",
    "    steps_per_epoch=len(pairs),\n",
    "    verbose=2\n",
    ")"
   ],
   "execution_count":null,
   "outputs":[
    {
     "name":"stdout",
     "text":[
      "Epoch 1\/15\n"
     ],
     "output_type":"stream"
    },
    {
     "name":"stderr",
     "text":[
      "<ipython-input-13-27e8724503c9>:3: UserWarning: `Model.fit_generator` is deprecated and will be removed in a future version. Please use `Model.fit`, which supports generators.\n",
      "  model.fit_generator(\n"
     ],
     "output_type":"stream"
    }
   ],
   "metadata":{
    "datalore":{
     "node_id":"z4yElS3B5x0s4uoV1EXZ8K",
     "type":"CODE",
     "hide_input_from_viewers":true,
     "hide_output_from_viewers":true
    }
   }
  },
  {
   "cell_type":"code",
   "source":[
    "movie = model.get_layer('movie_embedding')\n",
    "movie_weights = movie.get_weights()[0]\n",
    "movie_lengths = np.linalg.norm(movie_weights,axis=1)\n",
    "normalized_movies = (movie_weights.T\/movie_lengths).T\n",
    "\n",
    "def similar_movies(movie):\n",
    "    dist = np.dot(normalized_movies,normalized_movies[movie_to_idx[movie]])\n",
    "    closest = np.argsort(dist)[-10:]\n",
    "    for c in reversed(closest):\n",
    "        print(c,movies[c][0],dist[c])\n",
    "\n",
    "similar_movies('Rouge One')"
   ],
   "execution_count":null,
   "outputs":[
    
   ],
   "metadata":{
    "datalore":{
     "node_id":"ETzqsLLs7JyB60RjwO7zvE",
     "type":"CODE",
     "hide_input_from_viewers":true,
     "hide_output_from_viewers":true
    }
   }
  },
  {
   "cell_type":"code",
   "source":[
    "link = model.get_layer('link_embedding')\n",
    "link_weights = link.get_weights()[0]\n",
    "link_lengths = np.linalg.norm(link_weights,axis=1)\n",
    "normalized_links = (link_weights.T\/link_lengths).T\n",
    "\n",
    "def similar_links(link):\n",
    "    dist = np.dot(normalized_links,normalized_links[link_to_idx[link]])\n",
    "    closest = np.argsort(dist)[-10:]\n",
    "    for c in reversed(closest):\n",
    "        print(c,top_links[c][0],dist[c])\n",
    "\n",
    "similar_links('George Lucas')"
   ],
   "execution_count":null,
   "outputs":[
    
   ],
   "metadata":{
    "datalore":{
     "node_id":"R60vqhgJSMOOamXbUERkye",
     "type":"CODE",
     "hide_input_from_viewers":true,
     "hide_output_from_viewers":true
    }
   }
  }
 ],
 "metadata":{
  "kernelspec":{
   "display_name":"Python",
   "language":"python",
   "name":"python"
  },
  "datalore":{
   "computation_mode":"JUPYTER",
   "package_manager":"pip",
   "base_environment":"default",
   "packages":[
    
   ],
   "report_row_ids":[
    
   ],
   "version":3
  }
 },
 "nbformat":4,
 "nbformat_minor":4
}