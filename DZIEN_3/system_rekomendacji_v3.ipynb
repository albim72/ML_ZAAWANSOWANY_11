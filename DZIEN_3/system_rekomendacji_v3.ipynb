{
 "cells":[
  {
   "cell_type":"code",
   "source":[
    "import json\n",
    "from collections import Counter\n",
    "from keras.models import Model\n",
    "from keras.layers import Embedding,Input,Reshape\n",
    "from keras.layers.merging import Dot\n",
    "from sklearn.linear_model import LinearRegression\n",
    "import numpy as np\n",
    "import random\n",
    "from sklearn import svm"
   ],
   "execution_count":4,
   "outputs":[
    
   ],
   "metadata":{
    "datalore":{
     "node_id":"dPugSiYKSYQp3VyXb2MlF4",
     "type":"CODE",
     "hide_input_from_viewers":true,
     "hide_output_from_viewers":true
    }
   }
  },
  {
   "cell_type":"code",
   "source":[
    "with open('data\/wp_movies_second.ndjson') as fin:\n",
    "    movies = [json.loads(l) for l in fin]\n",
    "# with open('wp_movies_10k.ndjson') as fin:\n",
    "#     movies = fin.read()\n",
    "#     print(movies)\n",
    "#     mv2 = json.loads(movies)"
   ],
   "execution_count":5,
   "outputs":[
    
   ],
   "metadata":{
    "datalore":{
     "node_id":"Wbx0hXC4Cm9zJv5uAuydEI",
     "type":"CODE",
     "hide_input_from_viewers":true,
     "hide_output_from_viewers":true
    }
   }
  },
  {
   "cell_type":"code",
   "source":[
    "link_counts = Counter()\n",
    "for movie in movies:\n",
    "    link_counts.update(movie[2])\n",
    "link_counts.most_common(10)"
   ],
   "execution_count":6,
   "outputs":[
    {
     "data":{
      "text\/plain":[
       "[('Rotten Tomatoes', 9393),\n",
       " ('Category:English-language films', 5882),\n",
       " ('Category:American films', 5867),\n",
       " ('Variety (magazine)', 5450),\n",
       " ('Metacritic', 5112),\n",
       " ('Box Office Mojo', 4186),\n",
       " ('The New York Times', 3818),\n",
       " ('The Hollywood Reporter', 3553),\n",
       " ('Roger Ebert', 2707),\n",
       " ('Los Angeles Times', 2454)]"
      ]
     },
     "metadata":{
      
     },
     "output_type":"display_data"
    }
   ],
   "metadata":{
    "datalore":{
     "node_id":"KlDlc56cTuz7htrQgQtyrI",
     "type":"CODE",
     "hide_input_from_viewers":true,
     "hide_output_from_viewers":true
    }
   }
  },
  {
   "cell_type":"code",
   "source":[
    "top_links = [link for link,c in link_counts.items() if c>=3]\n",
    "link_to_idx = {link:idx for idx, link in enumerate(top_links)}\n",
    "movie_to_idx = {movie[0]:idx for idx,movie in enumerate(movies)}\n",
    "pairs=[]\n",
    "for movie in movies:\n",
    "    pairs.extend((link_to_idx[link],movie_to_idx[movie[0]]) for link in movie[2] if link in link_to_idx)\n",
    "pairs_set = set(pairs)\n",
    "len(pairs),len(top_links),len(movie_to_idx)"
   ],
   "execution_count":8,
   "outputs":[
    {
     "data":{
      "text\/plain":[
       "(949544, 66913, 10000)"
      ]
     },
     "metadata":{
      
     },
     "output_type":"display_data"
    }
   ],
   "metadata":{
    "datalore":{
     "node_id":"n5360VcxSEqW5QkSQ5uh5S",
     "type":"CODE",
     "hide_input_from_viewers":true,
     "hide_output_from_viewers":true
    }
   }
  },
  {
   "cell_type":"code",
   "source":[
    "def movie_embedding_model(embedding_size=50):\n",
    "    link = Input(name='link',shape=(1,))\n",
    "    movie = Input(name='movie', shape=(1,))\n",
    "    link_embedding = Embedding(name=\"link_embedding\", input_dim=len(top_links),output_dim=embedding_size)(link)\n",
    "    movie_embedding = Embedding(name=\"movie_embedding\", input_dim=len(movie_to_idx),output_dim=embedding_size)(movie)\n",
    "    dot = Dot(name='dot_product',normalize=True,axes=2)([link_embedding, movie_embedding])\n",
    "    merged = Reshape((1,))(dot)\n",
    "    model = Model(inputs=[link,movie],outputs=[merged])\n",
    "    model.compile(optimizer='nadam', loss='mse')\n",
    "    return model"
   ],
   "execution_count":9,
   "outputs":[
    
   ],
   "metadata":{
    "datalore":{
     "node_id":"RZnqxZUWMnwRJomfPmgR83",
     "type":"CODE",
     "hide_input_from_viewers":true,
     "hide_output_from_viewers":true
    }
   }
  },
  {
   "cell_type":"code",
   "source":[
    "model = movie_embedding_model()\n",
    "model.summary()"
   ],
   "execution_count":10,
   "outputs":[
    {
     "name":"stdout",
     "text":[
      "Model: \"model\"\n",
      "__________________________________________________________________________________________________\n",
      " Layer (type)                   Output Shape         Param #     Connected to                     \n",
      "==================================================================================================\n",
      " link (InputLayer)              [(None, 1)]          0           []                               \n",
      "                                                                                                  \n",
      " movie (InputLayer)             [(None, 1)]          0           []                               \n",
      "                                                                                                  \n",
      " link_embedding (Embedding)     (None, 1, 50)        3345650     ['link[0][0]']                   \n",
      "                                                                                                  \n",
      " movie_embedding (Embedding)    (None, 1, 50)        500000      ['movie[0][0]']                  \n",
      "                                                                                                  \n",
      " dot_product (Dot)              (None, 1, 1)         0           ['link_embedding[0][0]',         \n",
      "                                                                  'movie_embedding[0][0]']        \n",
      "                                                                                                  \n",
      " reshape (Reshape)              (None, 1)            0           ['dot_product[0][0]']            \n",
      "                                                                                                  \n",
      "==================================================================================================\n",
      "Total params: 3,845,650\n",
      "Trainable params: 3,845,650\n",
      "Non-trainable params: 0\n",
      "__________________________________________________________________________________________________\n"
     ],
     "output_type":"stream"
    }
   ],
   "metadata":{
    "datalore":{
     "node_id":"2WONFgcRmpH8T1O0nUggxe",
     "type":"CODE",
     "hide_input_from_viewers":true,
     "hide_output_from_viewers":true
    }
   }
  }
 ],
 "metadata":{
  "kernelspec":{
   "display_name":"Python",
   "language":"python",
   "name":"python"
  },
  "datalore":{
   "computation_mode":"JUPYTER",
   "package_manager":"pip",
   "base_environment":"default",
   "packages":[
    
   ],
   "report_row_ids":[
    
   ],
   "version":3
  }
 },
 "nbformat":4,
 "nbformat_minor":4
}