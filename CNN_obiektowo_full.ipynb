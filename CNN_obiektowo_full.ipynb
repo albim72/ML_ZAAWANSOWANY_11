{
  "nbformat": 4,
  "nbformat_minor": 0,
  "metadata": {
    "colab": {
      "provenance": [],
      "authorship_tag": "ABX9TyPmrO9DoFqoidFTkg49Wu1Z",
      "include_colab_link": true
    },
    "kernelspec": {
      "name": "python3",
      "display_name": "Python 3"
    },
    "language_info": {
      "name": "python"
    }
  },
  "cells": [
    {
      "cell_type": "markdown",
      "metadata": {
        "id": "view-in-github",
        "colab_type": "text"
      },
      "source": [
        "<a href=\"https://colab.research.google.com/github/albim72/ML_ZAAWANSOWANY_11/blob/main/CNN_obiektowo_full.ipynb\" target=\"_parent\"><img src=\"https://colab.research.google.com/assets/colab-badge.svg\" alt=\"Open In Colab\"/></a>"
      ]
    },
    {
      "cell_type": "code",
      "execution_count": 26,
      "metadata": {
        "id": "Gn9ALfz_h24u"
      },
      "outputs": [],
      "source": [
        "import tensorflow as tf\n",
        "from tensorflow.keras.layers import Flatten,Dense,Conv2D\n",
        "from tensorflow.keras import Model"
      ]
    },
    {
      "cell_type": "code",
      "source": [
        "mnist = tf.keras.datasets.mnist\n",
        "\n",
        "(x_train,y_train),(x_test,y_test) = mnist.load_data()\n",
        "x_train,x_test = x_train/255.0,x_test/255.0\n",
        "\n",
        "#dodanie kanałow wymiarów\n",
        "x_train = x_train[...,tf.newaxis].astype(\"float32\")\n",
        "x_test = x_test[...,tf.newaxis].astype(\"float32\")"
      ],
      "metadata": {
        "id": "sVwntqITijE8"
      },
      "execution_count": 27,
      "outputs": []
    },
    {
      "cell_type": "code",
      "source": [
        "#deklaracja przetwarzania wsadowego i przetasowanie zestawu danych\n",
        "train_ds = tf.data.Dataset.from_tensor_slices(\n",
        "    (x_train,y_train)\n",
        ").shuffle(10000).batch(32)\n",
        "\n",
        "test_ds = tf.data.Dataset.from_tensor_slices((x_test,y_test)).batch(32)"
      ],
      "metadata": {
        "id": "QFeyXQWTlMDa"
      },
      "execution_count": 28,
      "outputs": []
    },
    {
      "cell_type": "code",
      "source": [
        "class MyModel(Model):\n",
        "  def __init__(self) -> None:\n",
        "    super(MyModel,self).__init__()\n",
        "    self.conv1 = Conv2D(32,3,activation='relu')\n",
        "    self.flatten = Flatten()\n",
        "    self.d1 = Dense(128,activation='relu')\n",
        "    self.d2 = Dense(10)\n",
        "\n",
        "  def __call__(self,x):\n",
        "    x = self.conv1(x)\n",
        "    x = self.flatten(x)\n",
        "    x = self.d1(x)\n",
        "    return self.d2(x)\n",
        "\n",
        "model = MyModel()"
      ],
      "metadata": {
        "id": "c5RvBHVOmJ2n"
      },
      "execution_count": 29,
      "outputs": []
    },
    {
      "cell_type": "code",
      "source": [
        "#wybór optymalizatora i funkcji strat\n",
        "loss_object = tf.keras.losses.SparseCategoricalCrossentropy(from_logits=True)\n",
        "optimizer = tf.keras.optimizers.Adam()"
      ],
      "metadata": {
        "id": "gBTH9t6BnkB2"
      },
      "execution_count": 30,
      "outputs": []
    },
    {
      "cell_type": "code",
      "source": [
        "#metryki do pomiaru dokładności i straty\n",
        "train_loss = tf.keras.metrics.Mean(name='train_loss')\n",
        "train_accuracy = tf.keras.metrics.SparseCategoricalAccuracy(name='train_accuracy')\n",
        "\n",
        "test_loss = tf.keras.metrics.Mean(name='test_loss')\n",
        "test_accuracy = tf.keras.metrics.SparseCategoricalAccuracy(name='test_accuracy')"
      ],
      "metadata": {
        "id": "qz3dNuu0oHSq"
      },
      "execution_count": 31,
      "outputs": []
    },
    {
      "cell_type": "code",
      "source": [
        "@tf.function\n",
        "def train_step(images,labels):\n",
        "  with tf.GradientTape() as tape:\n",
        "    predictions = model(images)\n",
        "    loss = loss_object(labels,predictions)\n",
        "  gradients = tape.gradient(loss,model.trainable_variables)\n",
        "  optimizer.apply_gradients(zip(gradients,model.trainable_variables))\n",
        "\n",
        "  train_loss(loss)\n",
        "  train_accuracy(labels,predictions)"
      ],
      "metadata": {
        "id": "FPA23MQH3Lva"
      },
      "execution_count": 35,
      "outputs": []
    },
    {
      "cell_type": "code",
      "source": [
        "@tf.function\n",
        "def test_step(images,labels):\n",
        "  predictions = model(images)\n",
        "  t_loss = loss_object(labels,predictions)\n",
        "\n",
        "  test_loss(t_loss)\n",
        "  test_accuracy(labels,predictions)"
      ],
      "metadata": {
        "id": "Uq8Hd4gq4buQ"
      },
      "execution_count": 37,
      "outputs": []
    },
    {
      "cell_type": "code",
      "source": [
        "EPOCHS = 5\n",
        "\n",
        "for epoch in range(EPOCHS):\n",
        "  train_loss.reset_states()\n",
        "  train_accuracy.reset_states()\n",
        "  test_loss.reset_states()\n",
        "  test_accuracy.reset_states()\n",
        "\n",
        "  for images,labels in train_ds:\n",
        "    train_step(images,labels)\n",
        "\n",
        "  for test_images,test_labels in test_ds:\n",
        "    test_step(test_images,test_labels)\n",
        "\n",
        "  print(\n",
        "      f'Epoch: {epoch + 1}, '\n",
        "      f'Loss: {train_loss.result()}, '\n",
        "      f'Accuracy: {train_accuracy.result()*100}, '\n",
        "      f'Test Loss: {test_loss.result()}'\n",
        "      f'Test Accuracy: {test_accuracy.result()*100}, '\n",
        "  )\n",
        ""
      ],
      "metadata": {
        "colab": {
          "base_uri": "https://localhost:8080/"
        },
        "id": "dn2QAPZn5Bk6",
        "outputId": "b09b71e7-a3ef-41d9-a0c4-79440e52c00f"
      },
      "execution_count": 39,
      "outputs": [
        {
          "output_type": "stream",
          "name": "stdout",
          "text": [
            "Epoch: 1, Loss: 0.02147071249783039Accuracy: 99.29833221435547Test Loss: 0.059468600898981094Test Accuracy: 98.15999603271484\n",
            "Epoch: 2, Loss: 0.013043652288615704Accuracy: 99.58000183105469Test Loss: 0.06017792969942093Test Accuracy: 98.43000030517578\n",
            "Epoch: 3, Loss: 0.009314504452049732Accuracy: 99.69499969482422Test Loss: 0.061192795634269714Test Accuracy: 98.54999542236328\n",
            "Epoch: 4, Loss: 0.006738811731338501Accuracy: 99.76166534423828Test Loss: 0.08883879333734512Test Accuracy: 97.88999938964844\n",
            "Epoch: 5, Loss: 0.004376511089503765Accuracy: 99.86000061035156Test Loss: 0.08390038460493088Test Accuracy: 98.1500015258789\n"
          ]
        }
      ]
    }
  ]
}